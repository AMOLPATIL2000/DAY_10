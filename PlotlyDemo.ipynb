{
  "nbformat": 4,
  "nbformat_minor": 0,
  "metadata": {
    "colab": {
      "name": "PlotlyDemo.ipynb",
      "provenance": []
    },
    "kernelspec": {
      "name": "python3",
      "display_name": "Python 3"
    },
    "language_info": {
      "name": "python"
    }
  },
  "cells": [
    {
      "cell_type": "code",
      "execution_count": null,
      "metadata": {
        "id": "0sLMqN26NMpO"
      },
      "outputs": [],
      "source": [
        "from IPython.display import HTML\n",
        "import plotly.express as px\n",
        "import pandas as pd\n",
        "import numpy as np\n",
        "df = pd.DataFrame(np.random.randn(100, 4), columns ='A B C D'.split())\n",
        "fig = px.scatter(df, x=\"A\", y=\"B\")\n",
        "fig.show()"
      ]
    },
    {
      "cell_type": "code",
      "source": [
        "df = px.data.iris() \n",
        "fig = px.box(df, x=\"sepal_width\", y=\"sepal_length\") \n",
        "fig.show()"
      ],
      "metadata": {
        "id": "8i5H5ISrNVAn"
      },
      "execution_count": null,
      "outputs": []
    },
    {
      "cell_type": "code",
      "source": [
        "import plotly.express as px\n",
        "df = px.data.tips()\n",
        "fig = px.box(df, x=\"time\", y=\"total_bill\", color=\"smoker\", notched=True, # used notched shape\n",
        "             title=\"Box plot of total bill\",\n",
        "             hover_data=[\"day\"] # add day column to hover data\n",
        "            )\n",
        "fig.show()"
      ],
      "metadata": {
        "id": "u9Fl5lJANpSF"
      },
      "execution_count": null,
      "outputs": []
    },
    {
      "cell_type": "code",
      "source": [
        "import plotly.express as px\n",
        "  \n",
        "df = px.data.tips()\n",
        "  \n",
        "fig = px.histogram(df, x=\"total_bill\",\n",
        "                   histnorm='probability density')\n",
        "fig.show()"
      ],
      "metadata": {
        "id": "t48cUB_EOQat"
      },
      "execution_count": null,
      "outputs": []
    },
    {
      "cell_type": "code",
      "source": [
        "\n",
        "import plotly.graph_objects as px\n",
        "import numpy as np\n",
        "  \n",
        "  \n",
        "# creating random data through randomint \n",
        "# function of numpy.random \n",
        "np.random.seed(42)\n",
        "  \n",
        "random_x= np.random.randint(1,101,100) \n",
        "random_y= np.random.randint(1,101,100)\n",
        "  \n",
        "plot = px.Figure(data=[px.Scatter(\n",
        "    x = random_x,\n",
        "    y = random_y,\n",
        "    mode = 'markers',\n",
        "     marker=dict(\n",
        "       color = [10, 20, 30, 50], \n",
        "       size = [10, 30, 50, 80],\n",
        "       showscale=True\n",
        "     )\n",
        ")])\n",
        "                   \n",
        "plot.show()"
      ],
      "metadata": {
        "id": "aJTLzmYlOX-1"
      },
      "execution_count": null,
      "outputs": []
    },
    {
      "cell_type": "code",
      "source": [
        "\n",
        "import plotly.express as px\n",
        " \n",
        "# Loading the iris dataset\n",
        "df = px.data.iris()\n",
        " \n",
        "fig = px.pie(df, values=\"sepal_width\",\n",
        "             names=\"species\",\n",
        "             color_discrete_sequence=px.colors.sequential.RdBu)\n",
        "fig.show()"
      ],
      "metadata": {
        "id": "hLmkMJDPOuPs"
      },
      "execution_count": null,
      "outputs": []
    },
    {
      "cell_type": "code",
      "source": [
        "\n",
        "import plotly.graph_objects as go\n",
        "  \n",
        "feature_x = np.arange(0, 50, 2) \n",
        "feature_y = np.arange(0, 50, 3) \n",
        "  \n",
        "# Creating 2-D grid of features \n",
        "[X, Y] = np.meshgrid(feature_x, feature_y) \n",
        "  \n",
        "Z = np.cos(X / 2) + np.sin(Y / 4) \n",
        "  \n",
        "fig = go.Figure(data =\n",
        "     go.Heatmap(x = feature_x, y = feature_y, z = Z,))\n",
        "  \n",
        "fig.show()"
      ],
      "metadata": {
        "id": "e9B3pq-kOzjc"
      },
      "execution_count": null,
      "outputs": []
    },
    {
      "cell_type": "code",
      "source": [
        "import plotly.express as px\n",
        "  \n",
        "  \n",
        "gapminder = px.data.gapminder()\n",
        "gapminder.head(15)\n",
        "  \n",
        "fig = px.bar(gapminder, \n",
        "             x =\"continent\", \n",
        "             y =\"pop\",\n",
        "             color ='lifeExp',\n",
        "             animation_frame ='year',\n",
        "             hover_name ='country', \n",
        "             range_y =[0, 4000000000])\n",
        "fig.show()"
      ],
      "metadata": {
        "id": "139llllOPGaV"
      },
      "execution_count": null,
      "outputs": []
    },
    {
      "cell_type": "code",
      "source": [
        "import plotly.express as px\n",
        "  \n",
        "  \n",
        "df = px.data.iris()\n",
        "  \n",
        "fig = px.line_3d(df, x=\"sepal_width\",\n",
        "                 y=\"petal_length\", \n",
        "                 z=\"petal_width\", \n",
        "                 color=\"species\")\n",
        "fig.show()"
      ],
      "metadata": {
        "id": "BeB3CC56PO4t"
      },
      "execution_count": null,
      "outputs": []
    }
  ]
}