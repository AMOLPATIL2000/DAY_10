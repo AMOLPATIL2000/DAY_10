{
  "cells": [
    {
      "cell_type": "markdown",
      "metadata": {
        "id": "niL89IyS3CDw"
      },
      "source": [
        "## Imports"
      ]
    },
    {
      "cell_type": "code",
      "execution_count": 1,
      "metadata": {
        "collapsed": true,
        "id": "HXLN7R7u3CDx"
      },
      "outputs": [],
      "source": [
        "import numpy as np\n",
        "import pandas as pd\n",
        "%matplotlib inline"
      ]
    },
    {
      "cell_type": "markdown",
      "metadata": {
        "id": "B0lsSHvw3CDy"
      },
      "source": [
        "## The Data\n",
        "\n",
        "Read df1 with index_col = 0\n",
        "Read df2\n"
      ]
    },
    {
      "cell_type": "code",
      "execution_count": 2,
      "metadata": {
        "id": "YnHo5hog3CDz"
      },
      "outputs": [],
      "source": [
        "df1 = pd.read_csv('df1',index_col=0)\n",
        "df2 = pd.read_csv('df2')"
      ]
    },
    {
      "cell_type": "markdown",
      "metadata": {
        "id": "ZxN0wIW93CDz"
      },
      "source": [
        "Draw histogram on Column A"
      ]
    },
    {
      "cell_type": "code",
      "execution_count": null,
      "metadata": {
        "id": "-PK8kq-k3CD0"
      },
      "outputs": [],
      "source": [
        ""
      ]
    },
    {
      "cell_type": "markdown",
      "metadata": {
        "id": "XdoBayx43CD1"
      },
      "source": [
        "Use  style using plt.style.use function\n",
        "\n",
        "*   Use bmh style using plt.style.use function\n",
        "*   dark_background\n",
        "\n",
        "*   fivethirtyeight\n",
        "*   ggplot\n",
        "\n",
        "\n",
        "\n",
        "\n",
        "\n",
        "\n"
      ]
    },
    {
      "cell_type": "code",
      "execution_count": 4,
      "metadata": {
        "id": "06WHvLKl3CD1"
      },
      "outputs": [],
      "source": [
        ""
      ]
    },
    {
      "cell_type": "code",
      "execution_count": null,
      "metadata": {
        "id": "OjcbY9DJ3CD3"
      },
      "outputs": [],
      "source": [
        ""
      ]
    },
    {
      "cell_type": "code",
      "execution_count": null,
      "metadata": {
        "id": "qj82-Tdp3CD3"
      },
      "outputs": [],
      "source": [
        ""
      ]
    },
    {
      "cell_type": "code",
      "execution_count": null,
      "metadata": {
        "id": "fSgmAw3x3CD4"
      },
      "outputs": [],
      "source": [
        ""
      ]
    },
    {
      "cell_type": "code",
      "execution_count": null,
      "metadata": {
        "id": "tJ1JnGr73CD4"
      },
      "outputs": [],
      "source": [
        ""
      ]
    },
    {
      "cell_type": "code",
      "execution_count": null,
      "metadata": {
        "collapsed": true,
        "id": "bZjhNfQi3CD4"
      },
      "outputs": [],
      "source": [
        "plt.style.use('ggplot')"
      ]
    },
    {
      "cell_type": "markdown",
      "metadata": {
        "id": "DbfAEdzC3CD5"
      },
      "source": [
        "Let's stick with the ggplot style and actually show you how to utilize pandas built-in plotting capabilities!"
      ]
    },
    {
      "cell_type": "markdown",
      "metadata": {
        "id": "vTqFIWyI3CD5"
      },
      "source": [
        "# Plot Types\n",
        "\n",
        "There are several plot types built-in to pandas, most of them statistical plots by nature:\n",
        "\n",
        "* df.plot.area     \n",
        "* df.plot.barh     \n",
        "* df.plot.density  \n",
        "* df.plot.hist     \n",
        "* df.plot.line     \n",
        "* df.plot.scatter\n",
        "* df.plot.bar      \n",
        "* df.plot.box      \n",
        "* df.plot.hexbin   \n",
        "* df.plot.kde      \n",
        "* df.plot.pie\n",
        "\n",
        "You can also just call df.plot(kind='hist') or replace that kind argument with any of the key terms shown in the list above (e.g. 'box','barh', etc..)\n",
        "___"
      ]
    },
    {
      "cell_type": "markdown",
      "metadata": {
        "id": "x-sSFM-83CD5"
      },
      "source": [
        "\n",
        "\n",
        "## Area"
      ]
    },
    {
      "cell_type": "code",
      "execution_count": null,
      "metadata": {
        "id": "zaihIQoH3CD6"
      },
      "outputs": [],
      "source": [
        "df2.plot.area(alpha=0.4)"
      ]
    },
    {
      "cell_type": "markdown",
      "metadata": {
        "id": "Beu8RHcY3CD6"
      },
      "source": [
        "## Barplots"
      ]
    },
    {
      "cell_type": "code",
      "execution_count": null,
      "metadata": {
        "id": "5NEsdzbQ3CD6"
      },
      "outputs": [],
      "source": [
        "df2.head()"
      ]
    },
    {
      "cell_type": "code",
      "execution_count": null,
      "metadata": {
        "id": "NcQ1A9EX3CD7"
      },
      "outputs": [],
      "source": [
        "df2.plot.bar()"
      ]
    },
    {
      "cell_type": "code",
      "execution_count": null,
      "metadata": {
        "id": "wMtaZSfX3CD7"
      },
      "outputs": [],
      "source": [
        "df2.plot.bar(stacked=True)"
      ]
    },
    {
      "cell_type": "markdown",
      "metadata": {
        "id": "C4uEo-9A3CD7"
      },
      "source": [
        "## Histograms"
      ]
    },
    {
      "cell_type": "code",
      "execution_count": null,
      "metadata": {
        "id": "vnFv226t3CD8"
      },
      "outputs": [],
      "source": [
        "df1['A'].plot.hist(bins=50)"
      ]
    },
    {
      "cell_type": "markdown",
      "metadata": {
        "id": "G5Rb5Gx53CD8"
      },
      "source": [
        "## Line Plots"
      ]
    },
    {
      "cell_type": "code",
      "execution_count": null,
      "metadata": {
        "id": "V9OyVqTj3CD8"
      },
      "outputs": [],
      "source": [
        "df1.plot.line(x=df1.index,y='B',figsize=(12,3),lw=1)"
      ]
    },
    {
      "cell_type": "markdown",
      "metadata": {
        "id": "xroK2CJW3CD8"
      },
      "source": [
        "## Scatter Plots"
      ]
    },
    {
      "cell_type": "code",
      "execution_count": null,
      "metadata": {
        "id": "jQfe_UKG3CD9"
      },
      "outputs": [],
      "source": [
        "df1.plot.scatter(x='A',y='B')"
      ]
    },
    {
      "cell_type": "code",
      "execution_count": null,
      "metadata": {
        "id": "4q5jufek3CD9"
      },
      "outputs": [],
      "source": [
        "df1.plot.scatter(x='A',y='B',c='C',cmap='coolwarm')"
      ]
    },
    {
      "cell_type": "markdown",
      "metadata": {
        "id": "oOzGL7em3CD-"
      },
      "source": [
        "## BoxPlots"
      ]
    },
    {
      "cell_type": "code",
      "execution_count": null,
      "metadata": {
        "id": "0kHSNppr3CD_"
      },
      "outputs": [],
      "source": [
        "df2.plot.box() # Can also pass a by= argument for groupby"
      ]
    },
    {
      "cell_type": "markdown",
      "metadata": {
        "id": "YqqyKJps3CD_"
      },
      "source": [
        "## Hexagonal Bin Plot\n",
        "\n",
        "Useful for Bivariate Data, alternative to scatterplot:"
      ]
    },
    {
      "cell_type": "code",
      "execution_count": null,
      "metadata": {
        "id": "-ITFaWIs3CD_"
      },
      "outputs": [],
      "source": [
        "df = pd.DataFrame(np.random.randn(1000, 2), columns=['a', 'b'])\n",
        "df.plot.hexbin(x='a',y='b',gridsize=25,cmap='Oranges')"
      ]
    },
    {
      "cell_type": "markdown",
      "metadata": {
        "id": "bmmvwYD53CEA"
      },
      "source": [
        "____"
      ]
    },
    {
      "cell_type": "markdown",
      "metadata": {
        "id": "SNjtZByB3CEA"
      },
      "source": [
        "## Kernel Density Estimation plot (KDE)"
      ]
    },
    {
      "cell_type": "code",
      "execution_count": null,
      "metadata": {
        "id": "6NbYGTWl3CEA"
      },
      "outputs": [],
      "source": [
        "df2['a'].plot.kde()"
      ]
    },
    {
      "cell_type": "code",
      "execution_count": null,
      "metadata": {
        "id": "LFlgxdqi3CEA"
      },
      "outputs": [],
      "source": [
        "df2.plot.density()"
      ]
    }
  ],
  "metadata": {
    "kernelspec": {
      "display_name": "Python 3",
      "language": "python",
      "name": "python3"
    },
    "language_info": {
      "codemirror_mode": {
        "name": "ipython",
        "version": 3
      },
      "file_extension": ".py",
      "mimetype": "text/x-python",
      "name": "python",
      "nbconvert_exporter": "python",
      "pygments_lexer": "ipython3",
      "version": "3.5.1"
    },
    "colab": {
      "name": "01-Pandas Built-in Data Visualization.ipynb",
      "provenance": []
    }
  },
  "nbformat": 4,
  "nbformat_minor": 0
}