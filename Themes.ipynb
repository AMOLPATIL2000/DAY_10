{
  "nbformat": 4,
  "nbformat_minor": 0,
  "metadata": {
    "colab": {
      "name": "Untitled1.ipynb",
      "provenance": []
    },
    "kernelspec": {
      "name": "python3",
      "display_name": "Python 3"
    },
    "language_info": {
      "name": "python"
    }
  },
  "cells": [
    {
      "cell_type": "markdown",
      "source": [
        "Styling & Themes in SeaBorn\n",
        "\n",
        "Use SearBorns Built In car_crashes data set\n",
        "Draw Scatter Plot with Speeding & Alcohol With Themes\n",
        "\n",
        "Darkgrid\n",
        "Whitegrid\n",
        "Dark\n",
        "White\n",
        "Ticks"
      ],
      "metadata": {
        "id": "FRnkviB7yxHt"
      }
    },
    {
      "cell_type": "code",
      "execution_count": null,
      "metadata": {
        "id": "DqFE2B6FyuSQ"
      },
      "outputs": [],
      "source": [
        ""
      ]
    },
    {
      "cell_type": "markdown",
      "source": [
        "Print All Axes Styles Using axes_style function\n",
        "And Apply to Plot"
      ],
      "metadata": {
        "id": "RxvUD7kFyv1G"
      }
    },
    {
      "cell_type": "code",
      "source": [
        ""
      ],
      "metadata": {
        "id": "tETPQxCfz-r5"
      },
      "execution_count": null,
      "outputs": []
    },
    {
      "cell_type": "markdown",
      "source": [
        "Set Context of Plot using set_context function \n",
        "*   Paper\n",
        "*   Notebook\n",
        "*   Talk\n",
        "*   Poster\n"
      ],
      "metadata": {
        "id": "lv6IEISN0RC8"
      }
    },
    {
      "cell_type": "code",
      "source": [
        ""
      ],
      "metadata": {
        "id": "KQ9vmym80BFC"
      },
      "execution_count": null,
      "outputs": []
    },
    {
      "cell_type": "code",
      "source": [
        ""
      ],
      "metadata": {
        "id": "rX7t-mQi0ntI"
      },
      "execution_count": null,
      "outputs": []
    }
  ]
}