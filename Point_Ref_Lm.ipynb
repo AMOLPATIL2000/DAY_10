{
  "nbformat": 4,
  "nbformat_minor": 0,
  "metadata": {
    "colab": {
      "name": "Point-Ref-Lm.ipynb",
      "provenance": []
    },
    "kernelspec": {
      "name": "python3",
      "display_name": "Python 3"
    },
    "language_info": {
      "name": "python"
    }
  },
  "cells": [
    {
      "cell_type": "markdown",
      "source": [
        "Use Built in Tips Dataset\n",
        "& Draw Point Plot Between Day & Tips"
      ],
      "metadata": {
        "id": "V5vrEPN61Wnz"
      }
    },
    {
      "cell_type": "code",
      "source": [
        ""
      ],
      "metadata": {
        "id": "RPIgVAa-1VwS"
      },
      "execution_count": null,
      "outputs": []
    },
    {
      "cell_type": "markdown",
      "source": [
        "Use Built in Tips Dataset & Draw Point Plot Between time & total_bills\n",
        "using smoker as hue\n"
      ],
      "metadata": {
        "id": "FRnkviB7yxHt"
      }
    },
    {
      "cell_type": "code",
      "execution_count": null,
      "metadata": {
        "id": "DqFE2B6FyuSQ"
      },
      "outputs": [],
      "source": [
        ""
      ]
    },
    {
      "cell_type": "markdown",
      "source": [
        "Use Built in Tips Dataset & Draw Reg Plot Between  total_bill and tip"
      ],
      "metadata": {
        "id": "RxvUD7kFyv1G"
      }
    },
    {
      "cell_type": "code",
      "source": [
        ""
      ],
      "metadata": {
        "id": "tETPQxCfz-r5"
      },
      "execution_count": null,
      "outputs": []
    },
    {
      "cell_type": "markdown",
      "source": [
        "Use Built in Tips Dataset & Draw LM Plot Between total_bill and tip\n",
        "col='day' and hue='day'\n"
      ],
      "metadata": {
        "id": "lv6IEISN0RC8"
      }
    },
    {
      "cell_type": "code",
      "source": [
        ""
      ],
      "metadata": {
        "id": "KQ9vmym80BFC"
      },
      "execution_count": null,
      "outputs": []
    },
    {
      "cell_type": "code",
      "source": [
        ""
      ],
      "metadata": {
        "id": "rX7t-mQi0ntI"
      },
      "execution_count": null,
      "outputs": []
    }
  ]
}